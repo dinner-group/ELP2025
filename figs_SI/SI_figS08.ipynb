{
 "cells": [
  {
   "cell_type": "code",
   "execution_count": null,
   "id": "12e0f548-06d9-4243-8bb9-6ed9b7fb1923",
   "metadata": {},
   "outputs": [],
   "source": [
    "# This is a structure figure, so it is in the PowerPoint.\n",
    "\n",
    "# Notebook included for completeness."
   ]
  }
 ],
 "metadata": {
  "kernelspec": {
   "display_name": "Python 3 (ipykernel)",
   "language": "python",
   "name": "python3"
  },
  "language_info": {
   "codemirror_mode": {
    "name": "ipython",
    "version": 3
   },
   "file_extension": ".py",
   "mimetype": "text/x-python",
   "name": "python",
   "nbconvert_exporter": "python",
   "pygments_lexer": "ipython3",
   "version": "3.8.17"
  }
 },
 "nbformat": 4,
 "nbformat_minor": 5
}
